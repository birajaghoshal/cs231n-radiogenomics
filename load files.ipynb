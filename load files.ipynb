{
 "cells": [
  {
   "cell_type": "markdown",
   "metadata": {},
   "source": [
    "In this notebook, we load the files in the data folder and rename them\n",
    "\n",
    "Let's do gene DDB2: 0.92 AUC with the classifier"
   ]
  },
  {
   "cell_type": "code",
   "execution_count": 8,
   "metadata": {
    "collapsed": false
   },
   "outputs": [],
   "source": [
    "import os\n",
    "import shutil\n",
    "\n",
    "list_not_dir = ['gdc_manifest_20170512_072412.txt', 'test.svs', 'y_train.txt', 'gdc-client']\n",
    "for filename in os.listdir(\"/home/cedoz/data/\"):\n",
    "    if filename not in list_not_dir:\n",
    "        if filename[-3:] != \"svs\":\n",
    "            my_path = \"/home/cedoz/data/%s\"%filename\n",
    "            svs_image = [f for f in os.listdir(my_path) if os.path.isfile(os.path.join(my_path, f)) if f != \"annotations.txt\"]\n",
    "            os.chdir(my_path)\n",
    "            if svs_image != []:\n",
    "                if len(str(svs_image[0]>12)):\n",
    "                    os.rename(svs_image[0], svs_image[0][:12] + \".svs\")\n",
    "                    shutil.move(svs_image[0][:12] + \".svs\", os.path.join(\"/home/cedoz/data/\", svs_image[0][:12] + \".svs\"))\n",
    "            shutil.rmtree(my_path)\n",
    "os.chdir(\"/home/cedoz/\")"
   ]
  },
  {
   "cell_type": "code",
   "execution_count": 9,
   "metadata": {
    "collapsed": false
   },
   "outputs": [],
   "source": [
    "import numpy as np\n",
    "\n",
    "y_train = {}\n",
    "with open(\"data/y_train.txt\") as f:\n",
    "    for line in f:\n",
    "        (key, val) = line.split()\n",
    "        key = str(key).replace('.','-')\n",
    "        y_train[key] = int(val)"
   ]
  },
  {
   "cell_type": "code",
   "execution_count": 14,
   "metadata": {
    "collapsed": false
   },
   "outputs": [],
   "source": [
    "svs_images = []\n",
    "for filename in os.listdir(\"/home/cedoz/data/\"):\n",
    "    if filename not in list_not_dir:\n",
    "        svs_images.append(filename[:-4])"
   ]
  },
  {
   "cell_type": "code",
   "execution_count": 17,
   "metadata": {
    "collapsed": false
   },
   "outputs": [],
   "source": [
    "svs_images\n",
    "y_train.keys()\n",
    "intersect_samples = [val for val in svs_images if val in y_train.keys()]\n"
   ]
  },
  {
   "cell_type": "code",
   "execution_count": 21,
   "metadata": {
    "collapsed": false
   },
   "outputs": [
    {
     "name": "stdout",
     "output_type": "stream",
     "text": [
      "172\n",
      "559\n",
      "341\n"
     ]
    }
   ],
   "source": [
    "print len(intersect_samples)\n",
    "print len(svs_images)\n",
    "print len(y_train.keys())"
   ]
  },
  {
   "cell_type": "code",
   "execution_count": null,
   "metadata": {
    "collapsed": true
   },
   "outputs": [],
   "source": []
  }
 ],
 "metadata": {
  "kernelspec": {
   "display_name": "Python 2",
   "language": "python",
   "name": "python2"
  },
  "language_info": {
   "codemirror_mode": {
    "name": "ipython",
    "version": 2
   },
   "file_extension": ".py",
   "mimetype": "text/x-python",
   "name": "python",
   "nbconvert_exporter": "python",
   "pygments_lexer": "ipython2",
   "version": "2.7.12"
  }
 },
 "nbformat": 4,
 "nbformat_minor": 0
}
